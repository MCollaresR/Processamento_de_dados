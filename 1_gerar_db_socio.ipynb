{
 "cells": [
  {
   "cell_type": "code",
   "execution_count": 1,
   "metadata": {},
   "outputs": [
    {
     "name": "stderr",
     "output_type": "stream",
     "text": [
      "/usr/lib/python3/dist-packages/pandas/util/_decorators.py:311: ParserWarning: Falling back to the 'python' engine because the 'c' engine does not support regex separators (separators > 1 char and different from '\\s+' are interpreted as regex); you can avoid this warning by specifying engine='python'.\n",
      "  return func(*args, **kwargs)\n"
     ]
    }
   ],
   "source": [
    "import pandas as pd\n",
    "\n",
    "# LEITURA BASE---------------------------------------------------------------------------------------------------------------------------------------------\n",
    "df_base = pd.read_csv('/home/matheus/Documentos/relatorio_socios/dados/base_socios.csv', encoding='latin-1', delimiter='##')\n",
    "\n",
    "# TRATAMENTO PESSOA FÍSICA (NÃO EMPRESA)---------------------------------------------------------------------------------------------------------------------------------\n",
    "df = df_base.dropna(subset=['DATA_NASCIMENTO'])\n",
    "\n",
    "# TRATAMENTO SAIDA SOCIEDADE (EMPREENDEDOR ATIVO)-------------------------------------------------------------------------------------------------------------------------------\n",
    "df = df.set_index(df['DT_SAIDA_SOCIEDADE'])\n",
    "df['DT_SAIDA_SOCIEDADE'] = df['DT_SAIDA_SOCIEDADE'].astype(str)\n",
    "df = df.loc[df['DT_SAIDA_SOCIEDADE'].str.contains(r'\\b'+'|'.join('NaN') + r'\\b')]\n",
    "\n",
    "# TRATAMENTO UF (MA)----------------------------------------------------------------------------------------------------------------------------------\n",
    "df = df.set_index(df['COD_UF'])\n",
    "df = df.loc[\"MA\"]\n",
    "\n",
    "# TRATAMENTO BASE QUANTIDADE ATRIBUIÇÕES DE EMPREENDEDOR (PESSOA FÍSICA 1/+ ATRIBUIÇÕES)------------------------------------------------------------------------------------------\n",
    "df_quantidade = pd.DataFrame(data=df)\n",
    "\n",
    "# TRATAMENTO DE NOMES REPETIDOS (PESSOAS FÍSICAS ÚNICAS)------------------------------------------------------------------------------------------\n",
    "df_pessoa = pd.DataFrame(data=df)\n",
    "df_pessoa = df_pessoa.drop_duplicates(subset=['NOME_SOCIO'])"
   ]
  },
  {
   "cell_type": "code",
   "execution_count": 2,
   "metadata": {},
   "outputs": [],
   "source": [
    "\n",
    "# GERAR NOVO ARQUIVO CSV TRATADO ---------------------------------------------------------------------------------------------------------------------------------\n",
    "df_pessoa.to_csv('/home/matheus/Documentos/relatorio_socios/dados/df_pessoa/df_pessoa_MA.csv', encoding='latin-1')\n",
    "df_quantidade.to_csv('/home/matheus/Documentos/relatorio_socios/dados/df_quantidade.csv', encoding='latin-1')"
   ]
  }
 ],
 "metadata": {
  "interpreter": {
   "hash": "916dbcbb3f70747c44a77c7bcd40155683ae19c65e1c03b4aa3499c5328201f1"
  },
  "kernelspec": {
   "display_name": "Python 3.10.4 64-bit",
   "language": "python",
   "name": "python3"
  },
  "language_info": {
   "codemirror_mode": {
    "name": "ipython",
    "version": 3
   },
   "file_extension": ".py",
   "mimetype": "text/x-python",
   "name": "python",
   "nbconvert_exporter": "python",
   "pygments_lexer": "ipython3",
   "version": "3.10.4"
  },
  "orig_nbformat": 4
 },
 "nbformat": 4,
 "nbformat_minor": 2
}
